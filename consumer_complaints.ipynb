{
 "cells": [
  {
   "cell_type": "code",
   "execution_count": 201,
   "metadata": {
    "collapsed": true
   },
   "outputs": [],
   "source": [
    "import pandas as pd\n",
    "from pandas import DataFrame, Series\n",
    "import matplotlib.pyplot as plt\n",
    "%matplotlib inline"
   ]
  },
  {
   "cell_type": "code",
   "execution_count": 265,
   "metadata": {
    "collapsed": false
   },
   "outputs": [
    {
     "data": {
      "text/html": [
       "<div>\n",
       "<table border=\"1\" class=\"dataframe\">\n",
       "  <thead>\n",
       "    <tr style=\"text-align: right;\">\n",
       "      <th></th>\n",
       "      <th>Complaint ID</th>\n",
       "      <th>Product</th>\n",
       "      <th>Sub-product</th>\n",
       "      <th>Issue</th>\n",
       "      <th>Sub-issue</th>\n",
       "      <th>State</th>\n",
       "      <th>ZIP code</th>\n",
       "      <th>Submitted via</th>\n",
       "      <th>Date received</th>\n",
       "      <th>Date sent to company</th>\n",
       "      <th>Company</th>\n",
       "      <th>Company response</th>\n",
       "      <th>Timely response?</th>\n",
       "      <th>Consumer disputed?</th>\n",
       "    </tr>\n",
       "  </thead>\n",
       "  <tbody>\n",
       "    <tr>\n",
       "      <th>0</th>\n",
       "      <td>1177167</td>\n",
       "      <td>Debt collection</td>\n",
       "      <td>NaN</td>\n",
       "      <td>Cont'd attempts collect debt not owed</td>\n",
       "      <td>Debt is not mine</td>\n",
       "      <td>TX</td>\n",
       "      <td>77068.0</td>\n",
       "      <td>Web</td>\n",
       "      <td>12/31/2014</td>\n",
       "      <td>12/31/2014</td>\n",
       "      <td>Ad Astra Recovery Services Inc</td>\n",
       "      <td>Closed with explanation</td>\n",
       "      <td>Yes</td>\n",
       "      <td>NaN</td>\n",
       "    </tr>\n",
       "    <tr>\n",
       "      <th>1</th>\n",
       "      <td>1177166</td>\n",
       "      <td>Debt collection</td>\n",
       "      <td>NaN</td>\n",
       "      <td>Cont'd attempts collect debt not owed</td>\n",
       "      <td>Debt is not mine</td>\n",
       "      <td>TX</td>\n",
       "      <td>77068.0</td>\n",
       "      <td>Web</td>\n",
       "      <td>12/31/2014</td>\n",
       "      <td>12/31/2014</td>\n",
       "      <td>Unique Management Services, Inc</td>\n",
       "      <td>Closed with explanation</td>\n",
       "      <td>Yes</td>\n",
       "      <td>NaN</td>\n",
       "    </tr>\n",
       "    <tr>\n",
       "      <th>2</th>\n",
       "      <td>1177165</td>\n",
       "      <td>Debt collection</td>\n",
       "      <td>NaN</td>\n",
       "      <td>Cont'd attempts collect debt not owed</td>\n",
       "      <td>Debt is not mine</td>\n",
       "      <td>TX</td>\n",
       "      <td>77068.0</td>\n",
       "      <td>Web</td>\n",
       "      <td>12/31/2014</td>\n",
       "      <td>12/31/2014</td>\n",
       "      <td>CL Holdings, LLC</td>\n",
       "      <td>Closed with monetary relief</td>\n",
       "      <td>Yes</td>\n",
       "      <td>NaN</td>\n",
       "    </tr>\n",
       "  </tbody>\n",
       "</table>\n",
       "</div>"
      ],
      "text/plain": [
       "   Complaint ID          Product Sub-product  \\\n",
       "0       1177167  Debt collection         NaN   \n",
       "1       1177166  Debt collection         NaN   \n",
       "2       1177165  Debt collection         NaN   \n",
       "\n",
       "                                   Issue         Sub-issue State  ZIP code  \\\n",
       "0  Cont'd attempts collect debt not owed  Debt is not mine    TX   77068.0   \n",
       "1  Cont'd attempts collect debt not owed  Debt is not mine    TX   77068.0   \n",
       "2  Cont'd attempts collect debt not owed  Debt is not mine    TX   77068.0   \n",
       "\n",
       "  Submitted via Date received Date sent to company  \\\n",
       "0           Web    12/31/2014           12/31/2014   \n",
       "1           Web    12/31/2014           12/31/2014   \n",
       "2           Web    12/31/2014           12/31/2014   \n",
       "\n",
       "                           Company             Company response  \\\n",
       "0   Ad Astra Recovery Services Inc      Closed with explanation   \n",
       "1  Unique Management Services, Inc      Closed with explanation   \n",
       "2                 CL Holdings, LLC  Closed with monetary relief   \n",
       "\n",
       "  Timely response? Consumer disputed?  \n",
       "0              Yes                NaN  \n",
       "1              Yes                NaN  \n",
       "2              Yes                NaN  "
      ]
     },
     "execution_count": 265,
     "metadata": {},
     "output_type": "execute_result"
    }
   ],
   "source": [
    "complaints_data = pd.read_csv('complaints.csv')\n",
    "complaints_data.head(3)"
   ]
  },
  {
   "cell_type": "markdown",
   "metadata": {},
   "source": [
    "### Finding the number of complaints by product and showing the results in both raw data and a graphical representation."
   ]
  },
  {
   "cell_type": "code",
   "execution_count": 203,
   "metadata": {
    "collapsed": false
   },
   "outputs": [
    {
     "data": {
      "text/plain": [
       "Mortgage                   3002\n",
       "Debt collection            2942\n",
       "Credit reporting           2113\n",
       "Bank account or service    1136\n",
       "Credit card                1100\n",
       "Consumer loan               578\n",
       "Student loan                340\n",
       "Payday loan                 141\n",
       "Money transfers             107\n",
       "Prepaid card                 70\n",
       "Other financial service      14\n",
       "Name: Product, dtype: int64"
      ]
     },
     "execution_count": 203,
     "metadata": {},
     "output_type": "execute_result"
    }
   ],
   "source": [
    "product = complaints_data['Product'].value_counts()\n",
    "product"
   ]
  },
  {
   "cell_type": "code",
   "execution_count": 221,
   "metadata": {
    "collapsed": false
   },
   "outputs": [
    {
     "data": {
      "text/plain": [
       "<matplotlib.axes._subplots.AxesSubplot at 0x1130860f0>"
      ]
     },
     "execution_count": 221,
     "metadata": {},
     "output_type": "execute_result"
    },
    {
     "data": {
      "image/png": "[encoded data removed]",
      "text/plain": [
       "<matplotlib.figure.Figure at 0x113c97358>"
      ]
     },
     "metadata": {},
     "output_type": "display_data"
    }
   ],
   "source": [
    "product.plot(kind='bar', color='blue', title='Complaints by Product')"
   ]
  },
  {
   "cell_type": "markdown",
   "metadata": {},
   "source": [
    "## Observations:\n",
    "##### Mortgage and debt collection compose about half of all the complaints received by companies.  There is a significant decrease to between the top two products and the third, credit reporting, which is followed by another significant decrease towards the rest of the data.  The products that are complained about less have a much smaller difference in the number of complaints receieved.  "
   ]
  },
  {
   "cell_type": "markdown",
   "metadata": {},
   "source": [
    "### Finding the number of complaints by company.  The raw data and graphical representation show only the top 10 companies."
   ]
  },
  {
   "cell_type": "code",
   "execution_count": 270,
   "metadata": {
    "collapsed": false
   },
   "outputs": [
    {
     "data": {
      "text/plain": [
       "Bank of America        766\n",
       "Equifax                737\n",
       "Experian               675\n",
       "TransUnion             604\n",
       "Wells Fargo            598\n",
       "JPMorgan Chase         545\n",
       "Ocwen                  408\n",
       "Citibank               403\n",
       "Nationstar Mortgage    357\n",
       "Capital One            252\n",
       "Name: Company, dtype: int64"
      ]
     },
     "execution_count": 270,
     "metadata": {},
     "output_type": "execute_result"
    }
   ],
   "source": [
    "top_companies = complaints_data['Company'].value_counts().head(10)\n",
    "top_companies"
   ]
  },
  {
   "cell_type": "code",
   "execution_count": 226,
   "metadata": {
    "collapsed": false
   },
   "outputs": [
    {
     "data": {
      "text/plain": [
       "<matplotlib.axes._subplots.AxesSubplot at 0x1142cb860>"
      ]
     },
     "execution_count": 226,
     "metadata": {},
     "output_type": "execute_result"
    },
    {
     "data": {
      "image/png": "[encoded data removed]",
      "text/plain": [
       "<matplotlib.figure.Figure at 0x1142d7828>"
      ]
     },
     "metadata": {},
     "output_type": "display_data"
    }
   ],
   "source": [
    "top_companies.plot(kind='bar', color='blue', title='Top 10 Companies Complained To')"
   ]
  },
  {
   "cell_type": "markdown",
   "metadata": {},
   "source": [
    "## Observations:\n",
    "##### The complaints recieved by the top ten companies are slightly less than have the number of complaints raised to all companies.  Knowing this is true, indicates that there are a plethora of companies that recieved very few complaints, or that the number of complaints does not decrease much for each remaining company.  Without seeing all of the data, one might assume that every company received a large number of complaints due to the fact that the y-values are at intervals of 100 and the total number of companies that were part of the data collection is never stated.  "
   ]
  },
  {
   "cell_type": "code",
   "execution_count": 229,
   "metadata": {
    "collapsed": false
   },
   "outputs": [
    {
     "data": {
      "text/plain": [
       "Closed with explanation            8185\n",
       "Closed with non-monetary relief    1253\n",
       "In progress                        1056\n",
       "Closed with monetary relief         643\n",
       "Closed                              239\n",
       "Untimely response                   167\n",
       "Name: Company response, dtype: int64"
      ]
     },
     "execution_count": 229,
     "metadata": {},
     "output_type": "execute_result"
    }
   ],
   "source": [
    "company_response = complaints_data['Company response'].value_counts()\n",
    "company_response"
   ]
  },
  {
   "cell_type": "code",
   "execution_count": 230,
   "metadata": {
    "collapsed": false
   },
   "outputs": [
    {
     "data": {
      "text/plain": [
       "<matplotlib.axes._subplots.AxesSubplot at 0x114383c18>"
      ]
     },
     "execution_count": 230,
     "metadata": {},
     "output_type": "execute_result"
    },
    {
     "data": {
      "image/png": "[encoded data removed]",
      "text/plain": [
       "<matplotlib.figure.Figure at 0x11438e6d8>"
      ]
     },
     "metadata": {},
     "output_type": "display_data"
    }
   ],
   "source": [
    "company_response.plot(kind='bar', color='blue', title='Company Responses to Complaints')"
   ]
  },
  {
   "cell_type": "markdown",
   "metadata": {},
   "source": [
    "## Observations:\n",
    "##### This graph shows that a high percentage of customers' complaints are closed with an explanation. There is a significant gap between the number of customers that had their complaint closed with an explanation and those who had their complaint closed with some non-monetary relief.  This data leads companies to the conclussion that most customers are complaining due to a lack of understanding about a product or service."
   ]
  },
  {
   "cell_type": "markdown",
   "metadata": {},
   "source": [
    "### Setting up data to find what day of the week each complaint was sent."
   ]
  },
  {
   "cell_type": "code",
   "execution_count": 242,
   "metadata": {
    "collapsed": false
   },
   "outputs": [
    {
     "data": {
      "text/html": [
       "<div>\n",
       "<table border=\"1\" class=\"dataframe\">\n",
       "  <thead>\n",
       "    <tr style=\"text-align: right;\">\n",
       "      <th></th>\n",
       "      <th>Complaint ID</th>\n",
       "      <th>Product</th>\n",
       "      <th>Sub-product</th>\n",
       "      <th>Issue</th>\n",
       "      <th>Sub-issue</th>\n",
       "      <th>State</th>\n",
       "      <th>ZIP code</th>\n",
       "      <th>Submitted via</th>\n",
       "      <th>Date received</th>\n",
       "      <th>Date sent to company</th>\n",
       "      <th>Company</th>\n",
       "      <th>Company response</th>\n",
       "      <th>Timely response?</th>\n",
       "      <th>Consumer disputed?</th>\n",
       "      <th>weekday</th>\n",
       "    </tr>\n",
       "  </thead>\n",
       "  <tbody>\n",
       "    <tr>\n",
       "      <th>0</th>\n",
       "      <td>1177167</td>\n",
       "      <td>Debt collection</td>\n",
       "      <td>NaN</td>\n",
       "      <td>Cont'd attempts collect debt not owed</td>\n",
       "      <td>Debt is not mine</td>\n",
       "      <td>TX</td>\n",
       "      <td>77068.0</td>\n",
       "      <td>Web</td>\n",
       "      <td>12/31/2014</td>\n",
       "      <td>2014-12-31</td>\n",
       "      <td>Ad Astra Recovery Services Inc</td>\n",
       "      <td>Closed with explanation</td>\n",
       "      <td>Yes</td>\n",
       "      <td>NaN</td>\n",
       "      <td>Wednesday</td>\n",
       "    </tr>\n",
       "    <tr>\n",
       "      <th>1</th>\n",
       "      <td>1177166</td>\n",
       "      <td>Debt collection</td>\n",
       "      <td>NaN</td>\n",
       "      <td>Cont'd attempts collect debt not owed</td>\n",
       "      <td>Debt is not mine</td>\n",
       "      <td>TX</td>\n",
       "      <td>77068.0</td>\n",
       "      <td>Web</td>\n",
       "      <td>12/31/2014</td>\n",
       "      <td>2014-12-31</td>\n",
       "      <td>Unique Management Services, Inc</td>\n",
       "      <td>Closed with explanation</td>\n",
       "      <td>Yes</td>\n",
       "      <td>NaN</td>\n",
       "      <td>Wednesday</td>\n",
       "    </tr>\n",
       "    <tr>\n",
       "      <th>2</th>\n",
       "      <td>1177165</td>\n",
       "      <td>Debt collection</td>\n",
       "      <td>NaN</td>\n",
       "      <td>Cont'd attempts collect debt not owed</td>\n",
       "      <td>Debt is not mine</td>\n",
       "      <td>TX</td>\n",
       "      <td>77068.0</td>\n",
       "      <td>Web</td>\n",
       "      <td>12/31/2014</td>\n",
       "      <td>2014-12-31</td>\n",
       "      <td>CL Holdings, LLC</td>\n",
       "      <td>Closed with monetary relief</td>\n",
       "      <td>Yes</td>\n",
       "      <td>NaN</td>\n",
       "      <td>Wednesday</td>\n",
       "    </tr>\n",
       "  </tbody>\n",
       "</table>\n",
       "</div>"
      ],
      "text/plain": [
       "   Complaint ID          Product Sub-product  \\\n",
       "0       1177167  Debt collection         NaN   \n",
       "1       1177166  Debt collection         NaN   \n",
       "2       1177165  Debt collection         NaN   \n",
       "\n",
       "                                   Issue         Sub-issue State  ZIP code  \\\n",
       "0  Cont'd attempts collect debt not owed  Debt is not mine    TX   77068.0   \n",
       "1  Cont'd attempts collect debt not owed  Debt is not mine    TX   77068.0   \n",
       "2  Cont'd attempts collect debt not owed  Debt is not mine    TX   77068.0   \n",
       "\n",
       "  Submitted via Date received Date sent to company  \\\n",
       "0           Web    12/31/2014           2014-12-31   \n",
       "1           Web    12/31/2014           2014-12-31   \n",
       "2           Web    12/31/2014           2014-12-31   \n",
       "\n",
       "                           Company             Company response  \\\n",
       "0   Ad Astra Recovery Services Inc      Closed with explanation   \n",
       "1  Unique Management Services, Inc      Closed with explanation   \n",
       "2                 CL Holdings, LLC  Closed with monetary relief   \n",
       "\n",
       "  Timely response? Consumer disputed?    weekday  \n",
       "0              Yes                NaN  Wednesday  \n",
       "1              Yes                NaN  Wednesday  \n",
       "2              Yes                NaN  Wednesday  "
      ]
     },
     "execution_count": 242,
     "metadata": {},
     "output_type": "execute_result"
    }
   ],
   "source": [
    "complaints_data['Date sent to company'] =  pd.to_datetime(complaints_data['Date sent to company'])\n",
    "complaints_data['weekday'] = complaints_data['Date sent to company'].dt.weekday_name\n",
    "complaints_data.head(3)"
   ]
  },
  {
   "cell_type": "code",
   "execution_count": 259,
   "metadata": {
    "collapsed": false
   },
   "outputs": [
    {
     "data": {
      "text/plain": [
       "Monday       2609\n",
       "Wednesday    2540\n",
       "Tuesday      2450\n",
       "Friday       1742\n",
       "Thursday     1449\n",
       "Saturday      429\n",
       "Sunday        324\n",
       "Name: weekday, dtype: int64"
      ]
     },
     "execution_count": 259,
     "metadata": {},
     "output_type": "execute_result"
    }
   ],
   "source": [
    "complaints_data['weekday'].value_counts()"
   ]
  },
  {
   "cell_type": "markdown",
   "metadata": {},
   "source": [
    "### Finding the mean number of complaints by day of week and showing the raw data as well as a graphical representation of the data."
   ]
  },
  {
   "cell_type": "code",
   "execution_count": 260,
   "metadata": {
    "collapsed": false
   },
   "outputs": [
    {
     "data": {
      "text/plain": [
       "weekday\n",
       "Friday       217.750\n",
       "Monday       326.125\n",
       "Saturday      85.800\n",
       "Sunday        81.000\n",
       "Thursday     181.125\n",
       "Tuesday      306.250\n",
       "Wednesday    317.500\n",
       "dtype: float64"
      ]
     },
     "execution_count": 260,
     "metadata": {},
     "output_type": "execute_result"
    }
   ],
   "source": [
    "my_mean = complaints_data.groupby(['weekday', 'Date sent to company']).size().groupby(level=0).mean()\n",
    "my_mean.sort_index()"
   ]
  },
  {
   "cell_type": "code",
   "execution_count": 261,
   "metadata": {
    "collapsed": false
   },
   "outputs": [
    {
     "data": {
      "text/plain": [
       "<matplotlib.axes._subplots.AxesSubplot at 0x114e4d0b8>"
      ]
     },
     "execution_count": 261,
     "metadata": {},
     "output_type": "execute_result"
    },
    {
     "data": {
      "image/png": "[encoded data removed]",
      "text/plain": [
       "<matplotlib.figure.Figure at 0x11511b6d8>"
      ]
     },
     "metadata": {},
     "output_type": "display_data"
    }
   ],
   "source": [
    "my_mean.plot(kind='bar', color='blue')"
   ]
  },
  {
   "cell_type": "markdown",
   "metadata": {},
   "source": [
    "## Observations:\n",
    "#####  This data shows that the least amount of complaints are made on the weekends, which would stand to reason since many businesses are closed on Saturday and Sunday.  The data shows that most people are complaining when offices open again on Monday."
   ]
  },
  {
   "cell_type": "code",
   "execution_count": null,
   "metadata": {
    "collapsed": true
   },
   "outputs": [],
   "source": []
  }
 ],
 "metadata": {
  "kernelspec": {
   "display_name": "Python 3",
   "language": "python",
   "name": "python3"
  },
  "language_info": {
   "codemirror_mode": {
    "name": "ipython",
    "version": 3
   },
   "file_extension": ".py",
   "mimetype": "text/x-python",
   "name": "python",
   "nbconvert_exporter": "python",
   "pygments_lexer": "ipython3",
   "version": "3.5.1"
  }
 },
 "nbformat": 4,
 "nbformat_minor": 0
}
